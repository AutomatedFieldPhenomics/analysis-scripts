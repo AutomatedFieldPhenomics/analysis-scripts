{
 "cells": [
  {
   "cell_type": "code",
   "execution_count": 1,
   "metadata": {},
   "outputs": [],
   "source": [
    "import datetime\n",
    "import os\n",
    "import matplotlib.pyplot as plt\n",
    "import csv\n",
    "import numpy as np\n"
   ]
  },
  {
   "cell_type": "code",
   "execution_count": 2,
   "metadata": {},
   "outputs": [
    {
     "name": "stdout",
     "output_type": "stream",
     "text": [
      "[16. 16. 15. 15. 16. 15. 15. 15. 15. 15. 15. 15. 15. 15. 14. 14. 14. 14.\n",
      " 14. 14. 14. 14. 14. 14. 14. 14. 14. 14. 14. 14. 14. 14. 14. 14. 13. 13.\n",
      " 13. 13. 13. 13. 13. 13. 13. 13. 13. 13. 13. 12. 12. 12. 12. 12. 12. 12.\n",
      " 12. 12. 12. 12. 12. 12. 12. 12. 12. 12. 12. 12. 12. 11. 11. 11. 11. 11.\n",
      " 11. 11. 11. 11. 11. 11. 11. 11. 11. 11. 11. 11. 11. 11. 11. 10. 10. 10.\n",
      " 10. 10. 10. 10. 10. 10.] [22.   22.05 22.1  22.15 22.2  22.25 22.3  22.35 22.4  22.45 22.5  22.55\n",
      " 23.   23.05 23.1  23.15 23.2  23.25 23.3  23.35 23.4  23.45 23.5  23.55\n",
      "  0.    0.05  0.1   0.15  0.2   0.25  0.3   0.35  0.4   0.45  0.5   0.55\n",
      "  1.    1.05  1.1   1.15  1.2   1.25  1.3   1.35  1.4   1.45  1.5   1.55\n",
      "  2.    2.05  2.1   2.15  2.2   2.25  2.3   2.35  2.4   2.45  2.5   2.55\n",
      "  3.    3.05  3.1   3.15  3.2   3.25  3.3   3.35  3.4   3.45  3.5   3.55\n",
      "  4.    4.05  4.1   4.15  4.2   4.25  4.3   4.35  4.4   4.45  4.5   4.55\n",
      "  5.    5.05  5.1   5.15  5.2   5.25  5.3   5.35  5.4   5.45  5.5   5.55] [92. 92. 91. 91. 92. 91. 91. 91. 91. 91. 91. 91. 91. 91. 91. 91. 91. 91.\n",
      " 91. 91. 91. 91. 91. 91. 91. 91. 91. 91. 91. 91. 91. 91. 91. 91. 91. 91.\n",
      " 91. 91. 91. 91. 91. 91. 91. 91. 91. 91. 91. 90. 90. 90. 90. 90. 90. 90.\n",
      " 90. 90. 90. 90. 90. 90. 90. 90. 90. 90. 90. 90. 90. 89. 89. 89. 89. 89.\n",
      " 89. 89. 89. 89. 89. 89. 89. 89. 89. 89. 89. 89. 89. 89. 89. 88. 88. 88.\n",
      " 88. 88. 88. 88. 88. 88.]\n"
     ]
    }
   ],
   "source": [
    "csvfile = 'THstats.csv'\n",
    "temps = np.array([])\n",
    "hum = np.array([])\n",
    "times = np.array([])\n",
    "count = 0\n",
    "with open(csvfile, 'r') as fd:\n",
    "    for row in fd:\n",
    "        row = row.split(',')\n",
    "        count +=1   \n",
    "        timesplit = row[3].split(':')\n",
    "        if row[2]=='2020-07-20' and 20>=int(timesplit[0])>=5: # restrict the times you are graphing\n",
    "            temps = np.append(temps, float(row[0]))\n",
    "            hum = np.append(hum, float(row[1]))\n",
    "            timedata = row[3][0:8]\n",
    "            timedata = timedata.split(':')\n",
    "            timedata = float('{h}{m}'.format(h=timedata[0], m=timedata[1]))\n",
    "            times = np.append(times, timedata/100)\n",
    "print(temps, times, hum)"
   ]
  },
  {
   "cell_type": "code",
   "execution_count": 3,
   "metadata": {},
   "outputs": [
    {
     "data": {
      "image/png": "[encoded data removed]",
      "text/plain": [
       "<Figure size 432x288 with 1 Axes>"
      ]
     },
     "metadata": {
      "needs_background": "light"
     },
     "output_type": "display_data"
    }
   ],
   "source": [
    "# plot the areas vs time\n",
    "\n",
    "x = times\n",
    "y = hum\n",
    "z = temps\n",
    "\n",
    "\n",
    "plt.title('Temperature VS Time')\n",
    "plt.scatter(x,z, color='red')\n",
    "plt.xlabel('Time of Day (July 20)')\n",
    "plt.ylabel('Temperature [C]')\n",
    "plt.savefig('TempJuly20.png')\n",
    "plt.show()\n"
   ]
  },
  {
   "cell_type": "code",
   "execution_count": null,
   "metadata": {},
   "outputs": [],
   "source": []
  }
 ],
 "metadata": {
  "kernelspec": {
   "display_name": "Python 3",
   "language": "python",
   "name": "python3"
  },
  "language_info": {
   "codemirror_mode": {
    "name": "ipython",
    "version": 3
   },
   "file_extension": ".py",
   "mimetype": "text/x-python",
   "name": "python",
   "nbconvert_exporter": "python",
   "pygments_lexer": "ipython3",
   "version": "3.7.6"
  }
 },
 "nbformat": 4,
 "nbformat_minor": 4
}
