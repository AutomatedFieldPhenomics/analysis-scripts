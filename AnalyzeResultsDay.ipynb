{
 "cells": [
  {
   "cell_type": "code",
   "execution_count": 4,
   "metadata": {},
   "outputs": [],
   "source": [
    "# THIS CAN BE USED TO ANALYZE AND GRAPH PLANT INFORMATION (LIKE AREA) OVER A SINGLE DAY\n",
    "\n",
    "import plantcv as pcv\n",
    "import json\n",
    "import matplotlib.pyplot as plt\n",
    "import csv\n",
    "import numpy as np\n",
    "import os\n",
    "\n",
    "areas = np.array([])\n",
    "times = np.array([])\n",
    "folder = '2020-07-14' # CHANGE THIS PER DAY OF ANALYSIS \n",
    "for file in sorted(os.listdir('**** CHANGE THIS ****/fullDAY_Results/{}_results'.format(folder))): # CHANGE FOLDERS TO SUIT YOUR COMPUTER\n",
    "    if file != '.ipynb_checkpoints' and file != '.DS_Store':\n",
    "        text_data = open('**** CHANGE THIS ****/fullDAY_Results/{a}_results/{b}'.format(a=folder,b=file))\n",
    "        data_dict = json.load(text_data)\n",
    "        area = data_dict['observations']['area']['value']\n",
    "        areas = np.append(areas, area)\n",
    "        fileTime = file.split('_')\n",
    "        fileTime = fileTime[2]\n",
    "        filetime = fileTime.split(':')\n",
    "        filetime = '{h}.{m}'.format(h=filetime[0],m=int(filetime[1])*100//60)\n",
    "        filetime = float(filetime)\n",
    "        times = np.append(times, filetime)\n",
    "print(areas, times)\n",
    "\n",
    "# plot the areas vs time\n",
    "x = times\n",
    "y = areas\n",
    "\n",
    "plt.title('Area VS Time of Day')\n",
    "plt.scatter(x,areas,color='blue')\n",
    "plt.xlabel('Hour of Day (2020-07-14)') # CHANGE THE DATE\n",
    "plt.ylabel('Area of plant [Pixels]')\n",
    "plt.savefig('Areas_July14_DAY.png') # CHANGE THE DATE\n",
    "\n",
    "plt.show()\n"
   ]
  },
  {
   "cell_type": "code",
   "execution_count": 4,
   "metadata": {},
   "outputs": [
    {
     "name": "stdout",
     "output_type": "stream",
     "text": [
      "15743.269430051814\n",
      "160 18.58\n",
      "159 18.5\n",
      "149 17.66\n",
      "148 17.58\n",
      "146 17.41\n",
      "142 17.8\n",
      "125 15.66\n",
      "106 14.8\n",
      "[11459. 15548. 15558. 15444. 15405. 15293. 15152. 15141. 15136. 16349.\n",
      " 16339. 16413. 16432. 16457. 16455. 16496. 16512. 16530. 16542. 16511.\n",
      " 16487. 16458. 16439. 16426. 16447. 16426. 16419. 16442. 16464. 16418.\n",
      " 16428. 16435. 16457. 16468. 16471. 16565. 16630. 16507. 16474. 16485.\n",
      " 16510. 16438. 16486. 16382. 16309. 16431. 16183. 16534. 16325. 16275.\n",
      " 16212. 16076. 15624. 15168. 14932. 14843. 14665. 14351. 14449. 14408.\n",
      " 14354. 14149. 14081. 13924. 13843. 13638. 13714. 13683. 13719. 13565.\n",
      " 13498. 13430. 13493. 13415. 13355. 13201. 13122. 12864. 13138. 13013.\n",
      " 13444. 13615. 13101. 12976. 13406. 14030. 14175. 13883. 13226. 12956.\n",
      " 13208. 13836. 14812. 15139. 14859. 14024. 13666. 13659. 14464. 13768.\n",
      " 15255. 16305. 16132. 16184. 15859. 17328. 16148. 15353. 15081. 15016.\n",
      " 14619. 14843. 15055. 14256. 15815. 15154. 15560. 16329. 16437. 16328.\n",
      " 15522. 15747. 17006. 16702. 17169. 16953. 17331. 17044. 16692. 17789.\n",
      " 17129. 16367. 17161. 14289. 16349. 16469. 16937. 16740. 17123. 17420.\n",
      " 16965. 16872. 16003. 18051. 17132. 16644. 16408. 16273. 16187. 16075.\n",
      " 15931. 16119. 17558. 15997. 15872. 15808. 15622. 15468. 15251. 15117.\n",
      " 15082. 15032. 15090. 15078. 15282. 15367. 15388. 15436. 15451. 15613.\n",
      " 15676. 15680. 15764. 15743. 15783. 15082. 15086. 15099. 14564. 14835.\n",
      " 14772. 14954. 15058. 15052. 14235.] [ 5.25  5.33  5.41  5.5   5.58  5.66  5.75  5.83  5.91  6.    6.8   6.16\n",
      "  6.25  6.33  6.41  6.5   6.58  6.66  6.75  6.83  6.91  7.    7.8   7.16\n",
      "  7.25  7.33  7.41  7.5   7.58  7.66  7.75  7.83  7.91  8.    8.8   8.16\n",
      "  8.25  8.33  8.41  8.5   8.58  8.66  8.75  8.83  8.91  9.    9.8   9.16\n",
      "  9.25  9.33  9.41  9.5   9.58  9.66  9.75  9.83  9.91 10.   10.8  10.16\n",
      " 10.25 10.33 10.41 10.5  10.58 10.66 10.75 10.83 10.91 11.   11.8  11.16\n",
      " 11.25 11.33 11.41 11.5  11.58 11.66 11.75 11.83 11.91 12.   12.8  12.16\n",
      " 12.25 12.33 12.41 12.5  12.58 12.66 12.75 12.83 12.91 13.   13.8  13.16\n",
      " 13.25 13.33 13.41 13.5  13.58 13.66 13.75 13.83 13.91 14.   14.16 14.25\n",
      " 14.33 14.41 14.5  14.58 14.66 14.75 14.83 14.91 15.   15.8  15.16 15.25\n",
      " 15.33 15.41 15.5  15.58 15.75 15.83 15.91 16.   16.8  16.16 16.25 16.33\n",
      " 16.41 16.5  16.58 16.66 16.75 16.83 16.91 17.   17.16 17.25 17.33 17.5\n",
      " 17.75 17.83 17.91 18.   18.8  18.16 18.25 18.33 18.41 18.66 18.75 18.83\n",
      " 18.91 19.   19.8  19.16 19.25 19.33 19.41 19.5  19.58 19.66 19.75 19.83\n",
      " 19.91 20.   20.8  20.16 20.25 20.33 20.41 20.5  20.58 20.66 20.75 20.83\n",
      " 20.91 21.   21.8  21.16 21.25]\n"
     ]
    },
    {
     "data": {
      "image/png": "[encoded data removed]",
      "text/plain": [
       "<Figure size 432x288 with 1 Axes>"
      ]
     },
     "metadata": {
      "needs_background": "light"
     },
     "output_type": "display_data"
    }
   ],
   "source": [
    "# THE FOLLOWING IS AN OPTIONAL WAY TO FILTER OUTLIER DATA THAT STRAYS A CERTAIN AMOUNT FROM THE MEAN OF THE DAY:\n",
    "\n",
    "\n",
    "\n",
    "def removeOutliers(areas,times):\n",
    "    mean = np.mean(areas)\n",
    "    print(mean)\n",
    "    for i in range(len(areas)-1,0,-1):\n",
    "        if (areas[i]/mean > 1.2) or (areas[i]/mean < 0.8):\n",
    "            areasFiltered = np.delete(areas, i)\n",
    "            timesFiltered = np.delete(times, i)\n",
    "            print(i, times[i])\n",
    "            areas = areasFiltered\n",
    "            times = timesFiltered\n",
    "    return areas, times\n",
    "areasFiltered, timesFiltered = removeOutliers(areas, times)\n",
    "print(areasFiltered, timesFiltered)\n",
    "# plot the areas vs time\n",
    "x = timesFiltered\n",
    "y = areasFiltered\n",
    "\n",
    "#plt.title('Area (Flitered) VS Time of Day')\n",
    "plt.title('Area (Flitered) VS Time of Day')\n",
    "plt.scatter(x,y,color='green')\n",
    "plt.xlabel('Hour of Day (2020-06-24)')\n",
    "plt.ylabel('Area of plant [Pixels]')\n",
    "#plt.savefig('AreasJune24afterFilter.png')\n",
    "plt.savefig('AreasJune24afterFilter.png')\n",
    "\n",
    "plt.show()"
   ]
  },
  {
   "cell_type": "code",
   "execution_count": null,
   "metadata": {},
   "outputs": [],
   "source": []
  }
 ],
 "metadata": {
  "kernelspec": {
   "display_name": "Python 3",
   "language": "python",
   "name": "python3"
  },
  "language_info": {
   "codemirror_mode": {
    "name": "ipython",
    "version": 3
   },
   "file_extension": ".py",
   "mimetype": "text/x-python",
   "name": "python",
   "nbconvert_exporter": "python",
   "pygments_lexer": "ipython3",
   "version": "3.7.6"
  }
 },
 "nbformat": 4,
 "nbformat_minor": 4
}
