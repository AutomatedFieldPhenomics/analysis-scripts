{
 "cells": [
  {
   "cell_type": "code",
   "execution_count": null,
   "metadata": {},
   "outputs": [],
   "source": []
  },
  {
   "cell_type": "code",
   "execution_count": 1,
   "metadata": {},
   "outputs": [],
   "source": [
    "import datetime\n",
    "import os\n",
    "import matplotlib.pyplot as plt\n",
    "import csv\n",
    "import numpy as np\n"
   ]
  },
  {
   "cell_type": "code",
   "execution_count": 2,
   "metadata": {},
   "outputs": [
    {
     "name": "stdout",
     "output_type": "stream",
     "text": [
      "[19. 19. 19. 19. 19. 18. 18. 18. 18. 18. 18. 18. 18. 17. 17. 17. 17. 17.\n",
      " 17. 17. 17. 17. 17. 17. 17. 17. 17. 16. 16. 16. 16. 16. 16. 16. 16. 16.\n",
      " 16. 16. 16. 16. 16. 16. 16. 16. 16. 16. 15. 15. 15. 15. 15. 15. 15. 15.\n",
      " 15. 15. 15. 15. 15. 15. 15. 15. 14. 15. 14. 14. 14. 14. 14. 14. 14. 14.\n",
      " 14. 14. 14. 14. 14. 14. 14. 14. 14. 14. 14. 14. 14. 13. 13. 13. 13. 13.\n",
      " 13. 13. 13. 13. 13. 13.] [0.   0.05 0.1  0.15 0.2  0.25 0.3  0.35 0.4  0.45 0.5  0.55 1.   1.05\n",
      " 1.1  1.15 1.2  1.25 1.3  1.35 1.4  1.45 1.5  1.55 2.   2.05 2.1  2.15\n",
      " 2.2  2.25 2.3  2.35 2.4  2.45 2.5  2.55 3.   3.05 3.1  3.15 3.2  3.25\n",
      " 3.3  3.35 3.4  3.45 3.5  3.55 4.   4.05 4.1  4.15 4.2  4.25 4.3  4.35\n",
      " 4.4  4.45 4.5  4.55 5.   5.05 5.1  5.15 5.2  5.25 5.3  5.35 5.4  5.45\n",
      " 5.5  5.55 6.   6.05 6.1  6.15 6.2  6.25 6.3  6.35 6.4  6.45 6.5  6.55\n",
      " 7.   7.05 7.1  7.15 7.2  7.25 7.3  7.35 7.4  7.45 7.5  7.55] [93. 93. 93. 93. 93. 93. 93. 93. 93. 93. 93. 93. 93. 92. 92. 92. 92. 92.\n",
      " 92. 92. 92. 92. 92. 92. 92. 92. 92. 92. 92. 92. 92. 92. 92. 92. 92. 92.\n",
      " 92. 92. 92. 92. 92. 92. 92. 92. 92. 92. 91. 91. 91. 91. 91. 91. 91. 91.\n",
      " 91. 91. 91. 91. 91. 91. 91. 91. 91. 91. 91. 91. 91. 91. 91. 91. 91. 91.\n",
      " 91. 91. 91. 91. 91. 91. 91. 91. 91. 91. 91. 91. 91. 91. 91. 91. 91. 91.\n",
      " 91. 91. 91. 91. 91. 91.]\n"
     ]
    }
   ],
   "source": [
    "csvfile = 'THstats.csv'\n",
    "temps = np.array([])\n",
    "hum = np.array([])\n",
    "times = np.array([])\n",
    "count = 0\n",
    "with open(csvfile, 'r') as fd:\n",
    "    for row in fd:\n",
    "        row = row.split(',')\n",
    "        count +=1   \n",
    "        timesplit = row[3].split(':')\n",
    "        if (row[2]=='2020-07-30' and 5>=int(timesplit[0])>=0) or (row[2]=='2020-07-29' and 24>=int(timesplit[0])>=22):\n",
    "            temps = np.append(temps, float(row[0]))\n",
    "            hum = np.append(hum, float(row[1]))\n",
    "            timedata = row[3][0:8]\n",
    "            timedata = timedata.split(':')\n",
    "            timedata = float('{h}{m}'.format(h=timedata[0], m=timedata[1]))\n",
    "            timedata = timedata/100\n",
    "            if timedata > 6:\n",
    "                timedata = timedata -22\n",
    "            else:\n",
    "                timedata = timedata + 2\n",
    "            times = np.append(times, timedata)\n",
    "print(temps, times, hum)\n",
    "#for i in temp:\n",
    " #   print(i)"
   ]
  },
  {
   "cell_type": "code",
   "execution_count": 3,
   "metadata": {},
   "outputs": [
    {
     "data": {
      "image/png": "[encoded data removed]",
      "text/plain": [
       "<Figure size 432x288 with 1 Axes>"
      ]
     },
     "metadata": {
      "needs_background": "light"
     },
     "output_type": "display_data"
    }
   ],
   "source": [
    "# plot the areas vs time\n",
    "\n",
    "x = times\n",
    "y = hum\n",
    "z = temps\n",
    "\n",
    "\n",
    "plt.title('Temperature VS Time')\n",
    "#plt.scatter(x,y, color='blue')\n",
    "plt.scatter(x,z, color='red')\n",
    "plt.xlabel('Hours Past 22:00 (July 29)')\n",
    "plt.ylabel('Temperature [C]')\n",
    "plt.savefig('TempJuly29-30.png')\n",
    "plt.show()\n"
   ]
  },
  {
   "cell_type": "code",
   "execution_count": null,
   "metadata": {},
   "outputs": [],
   "source": []
  }
 ],
 "metadata": {
  "kernelspec": {
   "display_name": "Python 3",
   "language": "python",
   "name": "python3"
  },
  "language_info": {
   "codemirror_mode": {
    "name": "ipython",
    "version": 3
   },
   "file_extension": ".py",
   "mimetype": "text/x-python",
   "name": "python",
   "nbconvert_exporter": "python",
   "pygments_lexer": "ipython3",
   "version": "3.7.6"
  }
 },
 "nbformat": 4,
 "nbformat_minor": 4
}
