{
 "cells": [
  {
   "cell_type": "code",
   "execution_count": 5,
   "metadata": {},
   "outputs": [],
   "source": [
    "#************************************************\n",
    "# THIS PROGRAM CAN BE USED AS A TOOL FOR VISUALIZING THE MOVEMENT OF A PLANT OVER A SERIES OF IMAGES\n",
    "# AFTER THEY HAVE ALREADY BEEN MASKED. \n",
    "#************************************************\n",
    "\n",
    "import os\n",
    "from plantcv import plantcv as pcv\n",
    "import numpy as np\n",
    "import cv2\n",
    "\n",
    "def addLayer(file1,file2, num, colourfile):\n",
    "    # input is a binary mask\n",
    "    # output is a single image comprised of overlapped masks in different colours (colourfile) which can be\n",
    "    # added to in other iterations\n",
    "    file3 = cv2.bitwise_xor(file1,file2)\n",
    "    rows, cols, colour = file3.shape\n",
    "    for i in range(rows):\n",
    "        for j in range(cols):\n",
    "            if file3[i,j,2] >= 20:\n",
    "                colourfile[i,j] = [num,1.1*num,1.2*num]\n",
    "    return colourfile \n",
    "\n",
    "def baseLayer(file1, colourfile):\n",
    "    #input is a single binary mask\n",
    "    #output is that mask in a certain colour as a base for the rest of the image overlay\n",
    "    rows, cols, colour = file1.shape\n",
    "    for i in range(rows):\n",
    "        for j in range(cols):\n",
    "            if file1[i,j,2] >= 20:\n",
    "                colourfile[i,j] = [100,100,0]\n",
    "    return colourfile \n",
    "\n",
    "myfolder = # WRITE THE NAME OF YOUR CHOSEN FOLDER HERE\n",
    "num = 10 \n",
    "def main(myfolder, num):\n",
    "    # iterate over every file to compare it with the output from the last comparison\n",
    "    # sorted(folder, reverse=True) if bottomUp\n",
    "    count = 0\n",
    "    colourfile = np.zeros((720,480,3), np.uint8)\n",
    "    for file in sorted(os.listdir(myfolder), reverse=True):\n",
    "        path2file = '{a}/{b}'.format(a=myfolder,b=file)\n",
    "        if file != '.DS_Store' and file != '.ipynb_checkpoints':\n",
    "            count +=1\n",
    "            num += 3\n",
    "            file1 = cv2.imread(path2file)\n",
    "            if count == 1:\n",
    "                #colour the base layer\n",
    "                colourfile = baseLayer(file1, colourfile)\n",
    "            if count > 1:\n",
    "                # anything that was not in the last image gets added to the new image in a new colour\n",
    "                colourfile = addLayer(file1,file2, num, colourfile)\n",
    "            file2 = file1\n",
    "            print(count)\n",
    "    cv2.imwrite('***** CHANGE_THIS *****/FULL_NIGHT_bottomUpLayers.png', colourfile) # MODIFY FOR YOUR CHOSEN FOLDER\n",
    "\n",
    "main(myfolder, num)"
   ]
  },
  {
   "cell_type": "code",
   "execution_count": null,
   "metadata": {},
   "outputs": [],
   "source": []
  }
 ],
 "metadata": {
  "kernelspec": {
   "display_name": "Python 3",
   "language": "python",
   "name": "python3"
  },
  "language_info": {
   "codemirror_mode": {
    "name": "ipython",
    "version": 3
   },
   "file_extension": ".py",
   "mimetype": "text/x-python",
   "name": "python",
   "nbconvert_exporter": "python",
   "pygments_lexer": "ipython3",
   "version": "3.7.6"
  }
 },
 "nbformat": 4,
 "nbformat_minor": 4
}
